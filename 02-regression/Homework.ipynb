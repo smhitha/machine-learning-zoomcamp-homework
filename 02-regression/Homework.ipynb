{
 "cells": [
  {
   "cell_type": "code",
   "execution_count": 44,
   "id": "b4db810d-26b8-4224-b3c0-9e9fe2242417",
   "metadata": {},
   "outputs": [],
   "source": [
    "import pandas as pd\n",
    "import numpy as np\n",
    "\n",
    "import seaborn as sns\n",
    "from matplotlib import pyplot as plt\n",
    "%matplotlib inline"
   ]
  },
  {
   "cell_type": "code",
   "execution_count": 45,
   "id": "944eb975-4fca-4052-a53d-2cbe0d0435a7",
   "metadata": {},
   "outputs": [],
   "source": [
    "DFrame = pd.read_csv('https://raw.githubusercontent.com/alexeygrigorev/datasets/master/car_fuel_efficiency.csv')"
   ]
  },
  {
   "cell_type": "code",
   "execution_count": 46,
   "id": "9df1f207-1e0a-480a-9c4c-59936234e52c",
   "metadata": {},
   "outputs": [
    {
     "data": {
      "text/html": [
       "<div>\n",
       "<style scoped>\n",
       "    .dataframe tbody tr th:only-of-type {\n",
       "        vertical-align: middle;\n",
       "    }\n",
       "\n",
       "    .dataframe tbody tr th {\n",
       "        vertical-align: top;\n",
       "    }\n",
       "\n",
       "    .dataframe thead th {\n",
       "        text-align: right;\n",
       "    }\n",
       "</style>\n",
       "<table border=\"1\" class=\"dataframe\">\n",
       "  <thead>\n",
       "    <tr style=\"text-align: right;\">\n",
       "      <th></th>\n",
       "      <th>engine_displacement</th>\n",
       "      <th>num_cylinders</th>\n",
       "      <th>horsepower</th>\n",
       "      <th>vehicle_weight</th>\n",
       "      <th>acceleration</th>\n",
       "      <th>model_year</th>\n",
       "      <th>origin</th>\n",
       "      <th>fuel_type</th>\n",
       "      <th>drivetrain</th>\n",
       "      <th>num_doors</th>\n",
       "      <th>fuel_efficiency_mpg</th>\n",
       "    </tr>\n",
       "  </thead>\n",
       "  <tbody>\n",
       "    <tr>\n",
       "      <th>0</th>\n",
       "      <td>170</td>\n",
       "      <td>3.0</td>\n",
       "      <td>159.0</td>\n",
       "      <td>3413.433759</td>\n",
       "      <td>17.7</td>\n",
       "      <td>2003</td>\n",
       "      <td>Europe</td>\n",
       "      <td>Gasoline</td>\n",
       "      <td>All-wheel drive</td>\n",
       "      <td>0.0</td>\n",
       "      <td>13.231729</td>\n",
       "    </tr>\n",
       "    <tr>\n",
       "      <th>1</th>\n",
       "      <td>130</td>\n",
       "      <td>5.0</td>\n",
       "      <td>97.0</td>\n",
       "      <td>3149.664934</td>\n",
       "      <td>17.8</td>\n",
       "      <td>2007</td>\n",
       "      <td>USA</td>\n",
       "      <td>Gasoline</td>\n",
       "      <td>Front-wheel drive</td>\n",
       "      <td>0.0</td>\n",
       "      <td>13.688217</td>\n",
       "    </tr>\n",
       "    <tr>\n",
       "      <th>2</th>\n",
       "      <td>170</td>\n",
       "      <td>NaN</td>\n",
       "      <td>78.0</td>\n",
       "      <td>3079.038997</td>\n",
       "      <td>15.1</td>\n",
       "      <td>2018</td>\n",
       "      <td>Europe</td>\n",
       "      <td>Gasoline</td>\n",
       "      <td>Front-wheel drive</td>\n",
       "      <td>0.0</td>\n",
       "      <td>14.246341</td>\n",
       "    </tr>\n",
       "    <tr>\n",
       "      <th>3</th>\n",
       "      <td>220</td>\n",
       "      <td>4.0</td>\n",
       "      <td>NaN</td>\n",
       "      <td>2542.392402</td>\n",
       "      <td>20.2</td>\n",
       "      <td>2009</td>\n",
       "      <td>USA</td>\n",
       "      <td>Diesel</td>\n",
       "      <td>All-wheel drive</td>\n",
       "      <td>2.0</td>\n",
       "      <td>16.912736</td>\n",
       "    </tr>\n",
       "    <tr>\n",
       "      <th>4</th>\n",
       "      <td>210</td>\n",
       "      <td>1.0</td>\n",
       "      <td>140.0</td>\n",
       "      <td>3460.870990</td>\n",
       "      <td>14.4</td>\n",
       "      <td>2009</td>\n",
       "      <td>Europe</td>\n",
       "      <td>Gasoline</td>\n",
       "      <td>All-wheel drive</td>\n",
       "      <td>2.0</td>\n",
       "      <td>12.488369</td>\n",
       "    </tr>\n",
       "  </tbody>\n",
       "</table>\n",
       "</div>"
      ],
      "text/plain": [
       "   engine_displacement  num_cylinders  horsepower  vehicle_weight  \\\n",
       "0                  170            3.0       159.0     3413.433759   \n",
       "1                  130            5.0        97.0     3149.664934   \n",
       "2                  170            NaN        78.0     3079.038997   \n",
       "3                  220            4.0         NaN     2542.392402   \n",
       "4                  210            1.0       140.0     3460.870990   \n",
       "\n",
       "   acceleration  model_year  origin fuel_type         drivetrain  num_doors  \\\n",
       "0          17.7        2003  Europe  Gasoline    All-wheel drive        0.0   \n",
       "1          17.8        2007     USA  Gasoline  Front-wheel drive        0.0   \n",
       "2          15.1        2018  Europe  Gasoline  Front-wheel drive        0.0   \n",
       "3          20.2        2009     USA    Diesel    All-wheel drive        2.0   \n",
       "4          14.4        2009  Europe  Gasoline    All-wheel drive        2.0   \n",
       "\n",
       "   fuel_efficiency_mpg  \n",
       "0            13.231729  \n",
       "1            13.688217  \n",
       "2            14.246341  \n",
       "3            16.912736  \n",
       "4            12.488369  "
      ]
     },
     "execution_count": 46,
     "metadata": {},
     "output_type": "execute_result"
    }
   ],
   "source": [
    "DFrame.head()"
   ]
  },
  {
   "cell_type": "code",
   "execution_count": 47,
   "id": "06f9ddb7-b468-4b1b-bae3-2a04e5e65bc0",
   "metadata": {},
   "outputs": [
    {
     "data": {
      "text/html": [
       "<div>\n",
       "<style scoped>\n",
       "    .dataframe tbody tr th:only-of-type {\n",
       "        vertical-align: middle;\n",
       "    }\n",
       "\n",
       "    .dataframe tbody tr th {\n",
       "        vertical-align: top;\n",
       "    }\n",
       "\n",
       "    .dataframe thead th {\n",
       "        text-align: right;\n",
       "    }\n",
       "</style>\n",
       "<table border=\"1\" class=\"dataframe\">\n",
       "  <thead>\n",
       "    <tr style=\"text-align: right;\">\n",
       "      <th></th>\n",
       "      <th>engine_displacement</th>\n",
       "      <th>horsepower</th>\n",
       "      <th>vehicle_weight</th>\n",
       "      <th>model_year</th>\n",
       "      <th>fuel_efficiency_mpg</th>\n",
       "    </tr>\n",
       "  </thead>\n",
       "  <tbody>\n",
       "    <tr>\n",
       "      <th>0</th>\n",
       "      <td>170</td>\n",
       "      <td>159.0</td>\n",
       "      <td>3413.433759</td>\n",
       "      <td>2003</td>\n",
       "      <td>13.231729</td>\n",
       "    </tr>\n",
       "    <tr>\n",
       "      <th>1</th>\n",
       "      <td>130</td>\n",
       "      <td>97.0</td>\n",
       "      <td>3149.664934</td>\n",
       "      <td>2007</td>\n",
       "      <td>13.688217</td>\n",
       "    </tr>\n",
       "    <tr>\n",
       "      <th>2</th>\n",
       "      <td>170</td>\n",
       "      <td>78.0</td>\n",
       "      <td>3079.038997</td>\n",
       "      <td>2018</td>\n",
       "      <td>14.246341</td>\n",
       "    </tr>\n",
       "    <tr>\n",
       "      <th>3</th>\n",
       "      <td>220</td>\n",
       "      <td>NaN</td>\n",
       "      <td>2542.392402</td>\n",
       "      <td>2009</td>\n",
       "      <td>16.912736</td>\n",
       "    </tr>\n",
       "    <tr>\n",
       "      <th>4</th>\n",
       "      <td>210</td>\n",
       "      <td>140.0</td>\n",
       "      <td>3460.870990</td>\n",
       "      <td>2009</td>\n",
       "      <td>12.488369</td>\n",
       "    </tr>\n",
       "  </tbody>\n",
       "</table>\n",
       "</div>"
      ],
      "text/plain": [
       "   engine_displacement  horsepower  vehicle_weight  model_year  \\\n",
       "0                  170       159.0     3413.433759        2003   \n",
       "1                  130        97.0     3149.664934        2007   \n",
       "2                  170        78.0     3079.038997        2018   \n",
       "3                  220         NaN     2542.392402        2009   \n",
       "4                  210       140.0     3460.870990        2009   \n",
       "\n",
       "   fuel_efficiency_mpg  \n",
       "0            13.231729  \n",
       "1            13.688217  \n",
       "2            14.246341  \n",
       "3            16.912736  \n",
       "4            12.488369  "
      ]
     },
     "execution_count": 47,
     "metadata": {},
     "output_type": "execute_result"
    }
   ],
   "source": [
    "df = DFrame[['engine_displacement','horsepower','vehicle_weight','model_year','fuel_efficiency_mpg']]\n",
    "df.head()"
   ]
  },
  {
   "cell_type": "code",
   "execution_count": 48,
   "id": "71806964-ddf1-419e-ae67-16655e9b7cfb",
   "metadata": {},
   "outputs": [
    {
     "data": {
      "image/png": "[encoded data removed]",
      "text/plain": [
       "<Figure size 600x400 with 1 Axes>"
      ]
     },
     "metadata": {},
     "output_type": "display_data"
    }
   ],
   "source": [
    "plt.figure(figsize=(6, 4))\n",
    "\n",
    "sns.histplot(df.fuel_efficiency_mpg, bins=40, color='black', alpha=1)\n",
    "plt.ylabel('Frequency')\n",
    "plt.xlabel('Efficiency')\n",
    "plt.title('Car Fuel Efficiency')\n",
    "\n",
    "plt.show()"
   ]
  },
  {
   "cell_type": "markdown",
   "id": "b527f9da-6f1d-4f4a-8ce0-a1bada962c6b",
   "metadata": {},
   "source": [
    "### Look at the fuel_efficiency_mpg variable. Does it have a long tail?\n",
    "Answer : No, it doesnot have a long tail."
   ]
  },
  {
   "cell_type": "markdown",
   "id": "3bcc9723-e159-4a8a-8fc5-4d8c8d0c2dcc",
   "metadata": {},
   "source": [
    "### Question 1 There's one column with missing values. What is it?"
   ]
  },
  {
   "cell_type": "code",
   "execution_count": 49,
   "id": "ee581cbe-754c-4422-be4d-2b914d563207",
   "metadata": {},
   "outputs": [
    {
     "data": {
      "text/plain": [
       "engine_displacement      0\n",
       "horsepower             708\n",
       "vehicle_weight           0\n",
       "model_year               0\n",
       "fuel_efficiency_mpg      0\n",
       "dtype: int64"
      ]
     },
     "execution_count": 49,
     "metadata": {},
     "output_type": "execute_result"
    }
   ],
   "source": [
    "df.isnull().sum()"
   ]
  },
  {
   "cell_type": "markdown",
   "id": "0fbefc63-5d00-4113-a5e1-3b8acc21856b",
   "metadata": {},
   "source": [
    "### Answer : horsepower"
   ]
  },
  {
   "cell_type": "markdown",
   "id": "54098929-ffde-48eb-a70e-57e5d9997d72",
   "metadata": {},
   "source": [
    "### Question 2 What's the median (50% percentile) for variable 'horsepower'?"
   ]
  },
  {
   "cell_type": "code",
   "execution_count": 50,
   "id": "5d17ec89-5d56-48aa-914e-0efe04f58e37",
   "metadata": {},
   "outputs": [
    {
     "data": {
      "text/plain": [
       "count    8996.000000\n",
       "mean      149.657292\n",
       "std        29.879555\n",
       "min        37.000000\n",
       "25%       130.000000\n",
       "50%       149.000000\n",
       "75%       170.000000\n",
       "max       271.000000\n",
       "Name: horsepower, dtype: float64"
      ]
     },
     "execution_count": 50,
     "metadata": {},
     "output_type": "execute_result"
    }
   ],
   "source": [
    "#int(df['horsepower'].median())\n",
    "df['horsepower'].describe()"
   ]
  },
  {
   "cell_type": "markdown",
   "id": "61d53dac-ff57-4a9e-a7c4-df5477ab7be6",
   "metadata": {},
   "source": [
    "### Answer : 149"
   ]
  },
  {
   "cell_type": "markdown",
   "id": "51d0c4ed-bcd9-48e5-9487-afcc57220535",
   "metadata": {},
   "source": [
    "### Question 3 \n",
    "##### We need to deal with missing values for the column from Q1.\n",
    "##### We have two options: fill it with 0 or with the mean of this variable.\n",
    "##### Try both options. For each, train a linear regression model without regularization using the code from the lessons.\n",
    "##### For computing the mean, use the training only!\n",
    "##### Use the validation dataset to evaluate the models and compare the RMSE of each option.\n",
    "##### Round the RMSE scores to 2 decimal digits using round(score, 2)\n",
    "##### Which option gives better RMSE?"
   ]
  },
  {
   "cell_type": "code",
   "execution_count": 51,
   "id": "e3384d1c-b67c-41f9-b868-a19e57491376",
   "metadata": {},
   "outputs": [],
   "source": [
    "np.random.seed(42)\n",
    "n = len(df)\n",
    "n_val = int(0.2 * n)\n",
    "n_test = int(0.2 * n)\n",
    "n_train = n - (n_val + n_test)\n",
    "\n",
    "idx = np.arange(n)\n",
    "np.random.shuffle(idx)\n",
    "\n",
    "df_shuffled = df.iloc[idx]\n",
    "\n",
    "df_train = df_shuffled.iloc[:n_train].copy()\n",
    "df_val = df_shuffled.iloc[n_train:n_train+n_val].copy()\n",
    "df_test = df_shuffled.iloc[n_train+n_val:].copy()"
   ]
  },
  {
   "cell_type": "code",
   "execution_count": 52,
   "id": "78342574-96a0-440d-97fa-b4fc3353bf50",
   "metadata": {},
   "outputs": [],
   "source": [
    "y_train = df_train.fuel_efficiency_mpg.values\n",
    "y_val = df_val.fuel_efficiency_mpg.values\n",
    "y_test = df_test.fuel_efficiency_mpg.values\n",
    "\n",
    "del df_train['fuel_efficiency_mpg']\n",
    "del df_val['fuel_efficiency_mpg']\n",
    "del df_test['fuel_efficiency_mpg']"
   ]
  },
  {
   "cell_type": "code",
   "execution_count": 53,
   "id": "158d15f3-71a3-4183-ba90-cb12d159379f",
   "metadata": {},
   "outputs": [],
   "source": [
    "base = ['engine_displacement','horsepower','vehicle_weight','model_year']"
   ]
  },
  {
   "cell_type": "code",
   "execution_count": 54,
   "id": "97ac2f06-7780-432a-b34f-a78c85cf62f4",
   "metadata": {},
   "outputs": [
    {
     "data": {
      "text/plain": [
       "np.float64(149.54476367006487)"
      ]
     },
     "execution_count": 54,
     "metadata": {},
     "output_type": "execute_result"
    }
   ],
   "source": [
    "df_train.horsepower.mean()"
   ]
  },
  {
   "cell_type": "code",
   "execution_count": 55,
   "id": "83dd30d0-7b59-4ba4-8239-f1516e570eaf",
   "metadata": {},
   "outputs": [],
   "source": [
    "def prepare_X(df):\n",
    "    df_num = df[base]\n",
    "    df_num = df_num.fillna(0)\n",
    "    X = df_num.values\n",
    "    return X\n",
    "\n",
    "\n",
    "def prepare_X_mean(df):\n",
    "    df_num = df[base]\n",
    "    df_num = df_num.fillna(149.54)\n",
    "    X = df_num.values\n",
    "    return X\n",
    "    \n",
    "#df_train_0 = df_train.fillna(0)\n",
    "#df_val_0 = df_val.fillna(0)\n",
    "#df_test_0 = df_test.fillna(0)"
   ]
  },
  {
   "cell_type": "code",
   "execution_count": 56,
   "id": "372e399c-f44a-463a-a6e7-282300bc16c9",
   "metadata": {},
   "outputs": [],
   "source": [
    "def train_linear_regression(X, y):\n",
    "    ones = np.ones(X.shape[0])\n",
    "    X = np.column_stack([ones, X])\n",
    "\n",
    "    XTX = X.T.dot(X)\n",
    "    XTX_inv = np.linalg.inv(XTX)\n",
    "    w = XTX_inv.dot(X.T).dot(y)\n",
    "    \n",
    "    return w[0], w[1:]"
   ]
  },
  {
   "cell_type": "code",
   "execution_count": 57,
   "id": "4eea288b-b0eb-4d2a-b9b6-03b8381ee95b",
   "metadata": {},
   "outputs": [],
   "source": [
    "def rmse(y, y_pred):\n",
    "    error = y_pred - y\n",
    "    mse = (error ** 2).mean()\n",
    "    return np.sqrt(mse)"
   ]
  },
  {
   "cell_type": "markdown",
   "id": "8a1cde43-ee49-484a-a52a-beac078d5cb1",
   "metadata": {},
   "source": [
    "#### With 0"
   ]
  },
  {
   "cell_type": "code",
   "execution_count": 58,
   "id": "b6735487-2bcd-4cf2-92bb-1f327d898bf1",
   "metadata": {},
   "outputs": [],
   "source": [
    "X_train = prepare_X(df_train)\n",
    "w_0, w = train_linear_regression(X_train, y_train)\n",
    "#y_pred = w_0 + X_train.dot(w)\n",
    "#rmse(y_train, y_pred)"
   ]
  },
  {
   "cell_type": "code",
   "execution_count": 59,
   "id": "92296e6a-585a-4059-b0e8-a3e9821dffa4",
   "metadata": {},
   "outputs": [
    {
     "data": {
      "text/plain": [
       "(np.float64(28.827365475106156),\n",
       " array([ 9.93613218e-05,  3.54221891e-03, -5.01328015e-03,  3.42992869e-04]))"
      ]
     },
     "execution_count": 59,
     "metadata": {},
     "output_type": "execute_result"
    }
   ],
   "source": [
    "w_0, w"
   ]
  },
  {
   "cell_type": "code",
   "execution_count": 60,
   "id": "c7ddbd28-bbd8-4fbb-8c9e-06d4f94447e0",
   "metadata": {},
   "outputs": [],
   "source": [
    "X_val = prepare_X(df_val)\n",
    "y_pred = w_0 + X_val.dot(w)"
   ]
  },
  {
   "cell_type": "code",
   "execution_count": 61,
   "id": "6847a19d-fc05-4f26-a5e9-3df18f833a78",
   "metadata": {},
   "outputs": [
    {
     "data": {
      "text/plain": [
       "np.float64(0.52)"
      ]
     },
     "execution_count": 61,
     "metadata": {},
     "output_type": "execute_result"
    }
   ],
   "source": [
    "score_1 = rmse(y_val, y_pred)\n",
    "score_1 = round(score_1, 2)\n",
    "score_1"
   ]
  },
  {
   "cell_type": "markdown",
   "id": "644ddcbb-d5f3-477d-8fa3-d809e60b378e",
   "metadata": {},
   "source": [
    "#### With mean"
   ]
  },
  {
   "cell_type": "code",
   "execution_count": 62,
   "id": "6b69920e-1592-4f8c-94a3-7ae5485fbd95",
   "metadata": {},
   "outputs": [],
   "source": [
    "X_train_mean = prepare_X_mean(df_train)\n",
    "w_0_m, w_m = train_linear_regression(X_train_mean, y_train)\n",
    "\n",
    "X_val_mean = prepare_X_mean(df_val)\n",
    "y_pred_mean = w_0_m + X_val_mean.dot(w_m)"
   ]
  },
  {
   "cell_type": "code",
   "execution_count": null,
   "id": "11db1b2f-c380-487f-90a6-c974f5df6fb3",
   "metadata": {},
   "outputs": [
    {
     "data": {
      "text/plain": [
       "np.float64(0.46)"
      ]
     },
     "execution_count": 64,
     "metadata": {},
     "output_type": "execute_result"
    }
   ],
   "source": [
    "score_2 = rmse(y_val, y_pred_mean)\n",
    "score_2 = round(score_2, 2)\n",
    "score_2"
   ]
  },
  {
   "cell_type": "markdown",
   "id": "96ad2538-77bd-404b-b8a3-2e3c8225df85",
   "metadata": {},
   "source": [
    "### Answer : Mean gives better rmse value"
   ]
  },
  {
   "cell_type": "markdown",
   "id": "dcd91c2d-4032-49cb-bc4b-c453927518f7",
   "metadata": {},
   "source": [
    "### Question 4 \n",
    "##### Now let's train a regularized linear regression.\n",
    "##### For this question, fill the NAs with 0.\n",
    "##### Try different values of r from this list: [0, 0.01, 0.1, 1, 5, 10, 100].\n",
    "##### Use RMSE to evaluate the model on the validation dataset.\n",
    "##### Round the RMSE scores to 2 decimal digits.\n",
    "##### Which r gives the best RMSE?"
   ]
  },
  {
   "cell_type": "code",
   "execution_count": 67,
   "id": "c910d5fe-689f-47e3-89ba-806fdfaa5c86",
   "metadata": {},
   "outputs": [],
   "source": [
    "def train_linear_regression_reg(X, y, r):\n",
    "    ones = np.ones(X.shape[0])\n",
    "    X = np.column_stack([ones, X])\n",
    "\n",
    "    XTX = X.T.dot(X)\n",
    "    reg = r * np.eye(XTX.shape[0])\n",
    "    XTX = XTX + reg\n",
    "\n",
    "    XTX_inv = np.linalg.inv(XTX)\n",
    "    w = XTX_inv.dot(X.T).dot(y)\n",
    "    \n",
    "    return w[0], w[1:]"
   ]
  },
  {
   "cell_type": "code",
   "execution_count": 69,
   "id": "69300893-fbc5-465e-b904-9bc311aaac58",
   "metadata": {},
   "outputs": [
    {
     "name": "stdout",
     "output_type": "stream",
     "text": [
      "0 0.52\n",
      "0.01 0.52\n",
      "0.1 0.52\n",
      "1 0.52\n",
      "5 0.52\n",
      "10 0.52\n",
      "100 0.52\n"
     ]
    }
   ],
   "source": [
    "X_train = prepare_X(df_train)\n",
    "X_val = prepare_X(df_val)\n",
    "\n",
    "for r in [0, 0.01, 0.1, 1, 5, 10, 100]:\n",
    "    w_0, w = train_linear_regression_reg(X_train, y_train, r=r)\n",
    "    y_pred = w_0 + X_val.dot(w)\n",
    "    print('%s' %r, round(rmse(y_val, y_pred),2))"
   ]
  },
  {
   "cell_type": "markdown",
   "id": "c0dc5a20-e534-4be5-9585-117356796e98",
   "metadata": {},
   "source": [
    "### Answer : 0.01"
   ]
  },
  {
   "cell_type": "markdown",
   "id": "be681657-e1c6-4f9a-88ef-95b0741a5480",
   "metadata": {},
   "source": [
    "### Question 5 \n",
    "##### We used seed 42 for splitting the data. Let's find out how selecting the seed influences our score.\n",
    "##### Try different seed values: [0, 1, 2, 3, 4, 5, 6, 7, 8, 9].\n",
    "##### For each seed, do the train/validation/test split with 60%/20%/20% distribution.\n",
    "##### Fill the missing values with 0 and train a model without regularization.\n",
    "##### For each seed, evaluate the model on the validation dataset and collect the RMSE scores.\n",
    "##### What's the standard deviation of all the scores? To compute the standard deviation, use np.std.\n",
    "##### Round the result to 3 decimal digits (round(std, 3))"
   ]
  },
  {
   "cell_type": "code",
   "execution_count": 90,
   "id": "8291cc92-9627-41c1-a51f-c298d1885c3f",
   "metadata": {},
   "outputs": [],
   "source": [
    "results = {}\n",
    "seeds = [0, 1, 2, 3, 4, 5, 6, 7, 8, 9]\n",
    "for i in seeds:\n",
    "    np.random.seed(i)\n",
    "    n = len(df)\n",
    "    n_val = int(0.2 * n)\n",
    "    n_test = int(0.2 * n)\n",
    "    n_train = n - (n_val + n_test)\n",
    "\n",
    "    idx = np.arange(n)\n",
    "    np.random.shuffle(idx)\n",
    "\n",
    "    df_shuffled = df.iloc[idx]\n",
    "\n",
    "    df_train = df_shuffled.iloc[:n_train].copy()\n",
    "    df_val = df_shuffled.iloc[n_train:n_train+n_val].copy()\n",
    "    df_test = df_shuffled.iloc[n_train+n_val:].copy()\n",
    "\n",
    "    y_train = df_train.fuel_efficiency_mpg.values\n",
    "    y_val = df_val.fuel_efficiency_mpg.values\n",
    "    y_test = df_test.fuel_efficiency_mpg.values\n",
    "\n",
    "    del df_train['fuel_efficiency_mpg']\n",
    "    del df_val['fuel_efficiency_mpg']\n",
    "    del df_test['fuel_efficiency_mpg']\n",
    "\n",
    "    results[i] = {\"train\" : df_train, \"val\" : df_val, \"test\" : df_test,\n",
    "                 \"y_train\" : y_train, \"y_val\" : y_val, \"y_test\" : y_test}\n",
    "    "
   ]
  },
  {
   "cell_type": "code",
   "execution_count": 93,
   "id": "3bb9d8bf-6bb1-4ec7-8427-3071b5e190d4",
   "metadata": {},
   "outputs": [
    {
     "data": {
      "text/plain": [
       "array([15.86594878, 17.88596479, 10.88270071, ..., 20.33305536,\n",
       "       11.73612509, 18.31302256], shape=(5824,))"
      ]
     },
     "execution_count": 93,
     "metadata": {},
     "output_type": "execute_result"
    }
   ],
   "source": [
    "results[1]['y_train']"
   ]
  },
  {
   "cell_type": "code",
   "execution_count": 94,
   "id": "b21ed036-f882-4a6a-b8f9-2f6b721882e5",
   "metadata": {},
   "outputs": [],
   "source": [
    "res = []\n",
    "for seed in results:\n",
    "    \n",
    "    df_train = results[seed]['train']\n",
    "    df_val = results[seed]['val']\n",
    "    y_train = results[seed]['y_train']\n",
    "    y_val = results[seed]['y_val']\n",
    "    \n",
    "    X_train = prepare_X(df_train)\n",
    "    w_0, w = train_linear_regression(X_train, y_train)\n",
    "    X_val = prepare_X(df_val)\n",
    "    y_pred = w_0 + X_val.dot(w)\n",
    "    res.append(rmse(y_val, y_pred))"
   ]
  },
  {
   "cell_type": "code",
   "execution_count": 96,
   "id": "51d4a4cf-6795-47ee-8858-9fda8fa8ebc6",
   "metadata": {},
   "outputs": [
    {
     "data": {
      "text/plain": [
       "np.float64(0.006989446425721602)"
      ]
     },
     "execution_count": 96,
     "metadata": {},
     "output_type": "execute_result"
    }
   ],
   "source": [
    "np.std(res)"
   ]
  },
  {
   "cell_type": "markdown",
   "id": "355bbd35-d54d-496d-ba9b-55e4587d2bf4",
   "metadata": {},
   "source": [
    "### Answer : 0.006"
   ]
  },
  {
   "cell_type": "markdown",
   "id": "2e48c10b-4622-47b3-8811-cf3660f79b75",
   "metadata": {},
   "source": [
    "### Question 6 \n",
    "##### Split the dataset like previously, use seed 9.\n",
    "##### Combine train and validation datasets.\n",
    "##### Fill the missing values with 0 and train a model with r=0.001.\n",
    "##### What's the RMSE on the test dataset?"
   ]
  },
  {
   "cell_type": "code",
   "execution_count": 97,
   "id": "48d9c31d-7ca1-46f7-b45d-735c7f6fd299",
   "metadata": {},
   "outputs": [],
   "source": [
    "df_train_9 = results[9]['train']\n",
    "df_val_9 = results[9]['val']\n",
    "df_test_9 = results[9]['test']\n",
    "y_train_9 = results[9]['y_train']\n",
    "y_val_9 = results[9]['y_val']\n",
    "y_test_9 = results[9]['y_test']"
   ]
  },
  {
   "cell_type": "code",
   "execution_count": 100,
   "id": "a3f736e6-33af-4383-a9e2-0c044fb98e5e",
   "metadata": {},
   "outputs": [
    {
     "data": {
      "text/plain": [
       "(5824, 4)"
      ]
     },
     "execution_count": 100,
     "metadata": {},
     "output_type": "execute_result"
    }
   ],
   "source": [
    "df_train_9.shape"
   ]
  },
  {
   "cell_type": "code",
   "execution_count": 101,
   "id": "ba78fcb2-bf39-4c56-a3cf-aae1a0964ad9",
   "metadata": {},
   "outputs": [
    {
     "data": {
      "text/plain": [
       "(1940, 4)"
      ]
     },
     "execution_count": 101,
     "metadata": {},
     "output_type": "execute_result"
    }
   ],
   "source": [
    "df_val_9.shape"
   ]
  },
  {
   "cell_type": "code",
   "execution_count": 108,
   "id": "5aea3ea7-dc8f-4f0b-bfcb-c2ae2b7aa1f0",
   "metadata": {},
   "outputs": [],
   "source": [
    "df_full_train = pd.concat([df_train_9,df_val_9])\n",
    "df_full_train = df_full_train.reset_index(drop=True)\n",
    "y_full_train = np.concatenate([y_train_9,y_val_9])"
   ]
  },
  {
   "cell_type": "code",
   "execution_count": 109,
   "id": "4280499c-a47a-4c41-874d-8949849cf0c7",
   "metadata": {},
   "outputs": [
    {
     "data": {
      "text/plain": [
       "array([10.30469994, 13.47943378, 16.19065297, ..., 13.67814034,\n",
       "       17.59323665, 16.06897494], shape=(7764,))"
      ]
     },
     "execution_count": 109,
     "metadata": {},
     "output_type": "execute_result"
    }
   ],
   "source": [
    "y_full_train"
   ]
  },
  {
   "cell_type": "code",
   "execution_count": 112,
   "id": "ed032357-3ec1-401e-94ac-3b5c5829d652",
   "metadata": {},
   "outputs": [],
   "source": [
    "X_full_train = prepare_X(df_full_train)\n",
    "w_0, w = train_linear_regression_reg(X_full_train, y_full_train,0.001)\n",
    "X_test = prepare_X(df_test_9)\n",
    "y_pred = w_0 + X_test.dot(w)"
   ]
  },
  {
   "cell_type": "code",
   "execution_count": 113,
   "id": "4cc3bb5b-83fc-4084-8c3b-b3758648e027",
   "metadata": {},
   "outputs": [
    {
     "data": {
      "text/plain": [
       "np.float64(0.5156261299167999)"
      ]
     },
     "execution_count": 113,
     "metadata": {},
     "output_type": "execute_result"
    }
   ],
   "source": [
    "score = rmse(y_test_9,y_pred)\n",
    "score"
   ]
  },
  {
   "cell_type": "markdown",
   "id": "4a969f25-f26e-4df0-ba26-b8e5e06c4f8c",
   "metadata": {},
   "source": [
    "### Answer : 0.515"
   ]
  }
 ],
 "metadata": {
  "kernelspec": {
   "display_name": "Python 3 (ipykernel)",
   "language": "python",
   "name": "python3"
  },
  "language_info": {
   "codemirror_mode": {
    "name": "ipython",
    "version": 3
   },
   "file_extension": ".py",
   "mimetype": "text/x-python",
   "name": "python",
   "nbconvert_exporter": "python",
   "pygments_lexer": "ipython3",
   "version": "3.12.1"
  }
 },
 "nbformat": 4,
 "nbformat_minor": 5
}
