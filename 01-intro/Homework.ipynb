{
 "cells": [
  {
   "cell_type": "code",
   "execution_count": null,
   "id": "08f627e9-1105-4ac2-ae06-6a86d2376903",
   "metadata": {},
   "outputs": [],
   "source": [
    "import pandas as pd\n",
    "import numpy as np"
   ]
  },
  {
   "cell_type": "markdown",
   "id": "c14fdcb7-fc37-4246-9628-4fba2db80657",
   "metadata": {},
   "source": [
    "### 1. What's the version of Pandas that you installed?"
   ]
  },
  {
   "cell_type": "code",
   "execution_count": 62,
   "id": "b534b927-1b13-48d5-82bd-a05d0744a2df",
   "metadata": {},
   "outputs": [
    {
     "data": {
      "text/plain": [
       "'2.3.1'"
      ]
     },
     "execution_count": 62,
     "metadata": {},
     "output_type": "execute_result"
    }
   ],
   "source": [
    "pd.__version__"
   ]
  },
  {
   "cell_type": "markdown",
   "id": "007f2c14-004e-4ca1-b32a-553d9c08dbbb",
   "metadata": {},
   "source": [
    "### 2. How many records are in the dataset?"
   ]
  },
  {
   "cell_type": "code",
   "execution_count": 63,
   "id": "5ea5d21b-337c-4eb1-9e6a-4e2c9ee3c682",
   "metadata": {},
   "outputs": [],
   "source": [
    "df = pd.read_csv('https://raw.githubusercontent.com/alexeygrigorev/datasets/master/car_fuel_efficiency.csv')"
   ]
  },
  {
   "cell_type": "code",
   "execution_count": 105,
   "id": "21b9b411-5903-4837-99a8-a3baf7d915ff",
   "metadata": {},
   "outputs": [
    {
     "data": {
      "text/html": [
       "<div>\n",
       "<style scoped>\n",
       "    .dataframe tbody tr th:only-of-type {\n",
       "        vertical-align: middle;\n",
       "    }\n",
       "\n",
       "    .dataframe tbody tr th {\n",
       "        vertical-align: top;\n",
       "    }\n",
       "\n",
       "    .dataframe thead th {\n",
       "        text-align: right;\n",
       "    }\n",
       "</style>\n",
       "<table border=\"1\" class=\"dataframe\">\n",
       "  <thead>\n",
       "    <tr style=\"text-align: right;\">\n",
       "      <th></th>\n",
       "      <th>engine_displacement</th>\n",
       "      <th>num_cylinders</th>\n",
       "      <th>horsepower</th>\n",
       "      <th>vehicle_weight</th>\n",
       "      <th>acceleration</th>\n",
       "      <th>model_year</th>\n",
       "      <th>origin</th>\n",
       "      <th>fuel_type</th>\n",
       "      <th>drivetrain</th>\n",
       "      <th>num_doors</th>\n",
       "      <th>fuel_efficiency_mpg</th>\n",
       "    </tr>\n",
       "  </thead>\n",
       "  <tbody>\n",
       "    <tr>\n",
       "      <th>0</th>\n",
       "      <td>170</td>\n",
       "      <td>3.0</td>\n",
       "      <td>159.0</td>\n",
       "      <td>3413.433759</td>\n",
       "      <td>17.7</td>\n",
       "      <td>2003</td>\n",
       "      <td>Europe</td>\n",
       "      <td>Gasoline</td>\n",
       "      <td>All-wheel drive</td>\n",
       "      <td>0.0</td>\n",
       "      <td>13.231729</td>\n",
       "    </tr>\n",
       "    <tr>\n",
       "      <th>1</th>\n",
       "      <td>130</td>\n",
       "      <td>5.0</td>\n",
       "      <td>97.0</td>\n",
       "      <td>3149.664934</td>\n",
       "      <td>17.8</td>\n",
       "      <td>2007</td>\n",
       "      <td>USA</td>\n",
       "      <td>Gasoline</td>\n",
       "      <td>Front-wheel drive</td>\n",
       "      <td>0.0</td>\n",
       "      <td>13.688217</td>\n",
       "    </tr>\n",
       "    <tr>\n",
       "      <th>2</th>\n",
       "      <td>170</td>\n",
       "      <td>NaN</td>\n",
       "      <td>78.0</td>\n",
       "      <td>3079.038997</td>\n",
       "      <td>15.1</td>\n",
       "      <td>2018</td>\n",
       "      <td>Europe</td>\n",
       "      <td>Gasoline</td>\n",
       "      <td>Front-wheel drive</td>\n",
       "      <td>0.0</td>\n",
       "      <td>14.246341</td>\n",
       "    </tr>\n",
       "    <tr>\n",
       "      <th>3</th>\n",
       "      <td>220</td>\n",
       "      <td>4.0</td>\n",
       "      <td>152.0</td>\n",
       "      <td>2542.392402</td>\n",
       "      <td>20.2</td>\n",
       "      <td>2009</td>\n",
       "      <td>USA</td>\n",
       "      <td>Diesel</td>\n",
       "      <td>All-wheel drive</td>\n",
       "      <td>2.0</td>\n",
       "      <td>16.912736</td>\n",
       "    </tr>\n",
       "    <tr>\n",
       "      <th>4</th>\n",
       "      <td>210</td>\n",
       "      <td>1.0</td>\n",
       "      <td>140.0</td>\n",
       "      <td>3460.870990</td>\n",
       "      <td>14.4</td>\n",
       "      <td>2009</td>\n",
       "      <td>Europe</td>\n",
       "      <td>Gasoline</td>\n",
       "      <td>All-wheel drive</td>\n",
       "      <td>2.0</td>\n",
       "      <td>12.488369</td>\n",
       "    </tr>\n",
       "  </tbody>\n",
       "</table>\n",
       "</div>"
      ],
      "text/plain": [
       "   engine_displacement  num_cylinders  horsepower  vehicle_weight  \\\n",
       "0                  170            3.0       159.0     3413.433759   \n",
       "1                  130            5.0        97.0     3149.664934   \n",
       "2                  170            NaN        78.0     3079.038997   \n",
       "3                  220            4.0       152.0     2542.392402   \n",
       "4                  210            1.0       140.0     3460.870990   \n",
       "\n",
       "   acceleration  model_year  origin fuel_type         drivetrain  num_doors  \\\n",
       "0          17.7        2003  Europe  Gasoline    All-wheel drive        0.0   \n",
       "1          17.8        2007     USA  Gasoline  Front-wheel drive        0.0   \n",
       "2          15.1        2018  Europe  Gasoline  Front-wheel drive        0.0   \n",
       "3          20.2        2009     USA    Diesel    All-wheel drive        2.0   \n",
       "4          14.4        2009  Europe  Gasoline    All-wheel drive        2.0   \n",
       "\n",
       "   fuel_efficiency_mpg  \n",
       "0            13.231729  \n",
       "1            13.688217  \n",
       "2            14.246341  \n",
       "3            16.912736  \n",
       "4            12.488369  "
      ]
     },
     "execution_count": 105,
     "metadata": {},
     "output_type": "execute_result"
    }
   ],
   "source": [
    "df.head()"
   ]
  },
  {
   "cell_type": "code",
   "execution_count": 104,
   "id": "69168de8-9875-4dff-bbaf-db9ec8bfef47",
   "metadata": {},
   "outputs": [
    {
     "data": {
      "text/plain": [
       "(9704, 11)"
      ]
     },
     "execution_count": 104,
     "metadata": {},
     "output_type": "execute_result"
    }
   ],
   "source": [
    "df.shape"
   ]
  },
  {
   "cell_type": "markdown",
   "id": "bb6472db-2a08-4ad9-85ab-5e531d843ab5",
   "metadata": {},
   "source": [
    "### Answer : 9704"
   ]
  },
  {
   "cell_type": "markdown",
   "id": "1fcfa4dc-dd4a-4fec-b86f-fad8c737baf2",
   "metadata": {},
   "source": [
    "### 3. How many fuel types are presented in the dataset?"
   ]
  },
  {
   "cell_type": "code",
   "execution_count": 65,
   "id": "108a643a-cf04-4ee3-94be-082306ae7296",
   "metadata": {},
   "outputs": [
    {
     "data": {
      "text/plain": [
       "2"
      ]
     },
     "execution_count": 65,
     "metadata": {},
     "output_type": "execute_result"
    }
   ],
   "source": [
    "df.fuel_type.nunique()"
   ]
  },
  {
   "cell_type": "markdown",
   "id": "f5bbf3c0-ddbd-4707-bb07-5f3ba51bcafc",
   "metadata": {},
   "source": [
    "### Answer : 2"
   ]
  },
  {
   "cell_type": "markdown",
   "id": "9e942e2e-d5a2-4863-b3fa-94340a38d602",
   "metadata": {},
   "source": [
    "### 4. How many columns in the dataset have missing values?"
   ]
  },
  {
   "cell_type": "code",
   "execution_count": 66,
   "id": "2e31d8b8-3350-449c-8513-b55d8f31b530",
   "metadata": {},
   "outputs": [
    {
     "data": {
      "text/plain": [
       "engine_displacement      0\n",
       "num_cylinders          482\n",
       "horsepower             708\n",
       "vehicle_weight           0\n",
       "acceleration           930\n",
       "model_year               0\n",
       "origin                   0\n",
       "fuel_type                0\n",
       "drivetrain               0\n",
       "num_doors              502\n",
       "fuel_efficiency_mpg      0\n",
       "dtype: int64"
      ]
     },
     "execution_count": 66,
     "metadata": {},
     "output_type": "execute_result"
    }
   ],
   "source": [
    "df.isnull().sum()"
   ]
  },
  {
   "cell_type": "markdown",
   "id": "11dcc1d5-36ad-4d58-a312-8a7eab80b2bb",
   "metadata": {},
   "source": [
    "### Answer : 4"
   ]
  },
  {
   "cell_type": "markdown",
   "id": "a57ad021-a123-468b-a971-cad6b1d4bbcc",
   "metadata": {},
   "source": [
    "### 5. What's the maximum fuel efficiency of cars from Asia?"
   ]
  },
  {
   "cell_type": "code",
   "execution_count": 67,
   "id": "57be561e-57b2-452e-a532-c79593d5f7f5",
   "metadata": {},
   "outputs": [
    {
     "data": {
      "text/plain": [
       "origin\n",
       "Asia      23.759123\n",
       "Europe    25.967222\n",
       "USA       24.971452\n",
       "Name: fuel_efficiency_mpg, dtype: float64"
      ]
     },
     "execution_count": 67,
     "metadata": {},
     "output_type": "execute_result"
    }
   ],
   "source": [
    "df.groupby('origin').fuel_efficiency_mpg.max()"
   ]
  },
  {
   "cell_type": "markdown",
   "id": "1faea9cf-c901-4989-8b4b-7dc6be44ea9a",
   "metadata": {},
   "source": [
    "### Answer : 23.75"
   ]
  },
  {
   "cell_type": "markdown",
   "id": "f4d07d7c-63ea-4ef9-91c7-4cb46e2b8bc7",
   "metadata": {},
   "source": [
    "### 6. Median value of horsepower?\n",
    "##### 1. Find the median value of horsepower column in the dataset.\n",
    "##### 2. Next, calculate the most frequent value of the same horsepower column.\n",
    "##### 3. Use fillna method to fill the missing values in horsepower column with the most frequent value from the previous step.\n",
    "##### 4. Now, calculate the median value of horsepower once again.\n",
    "##### 5. Has it changed?"
   ]
  },
  {
   "cell_type": "code",
   "execution_count": 68,
   "id": "0c084028-977f-4d51-be2c-d30bc4533b78",
   "metadata": {},
   "outputs": [
    {
     "data": {
      "text/plain": [
       "count    8996.000000\n",
       "mean      149.657292\n",
       "std        29.879555\n",
       "min        37.000000\n",
       "25%       130.000000\n",
       "50%       149.000000\n",
       "75%       170.000000\n",
       "max       271.000000\n",
       "Name: horsepower, dtype: float64"
      ]
     },
     "execution_count": 68,
     "metadata": {},
     "output_type": "execute_result"
    }
   ],
   "source": [
    "df.horsepower.describe()"
   ]
  },
  {
   "cell_type": "code",
   "execution_count": 69,
   "id": "ba6c061c-b2ac-4682-8c11-7c745ccb4f67",
   "metadata": {},
   "outputs": [
    {
     "data": {
      "text/plain": [
       "np.float64(149.0)"
      ]
     },
     "execution_count": 69,
     "metadata": {},
     "output_type": "execute_result"
    }
   ],
   "source": [
    "#Step 1\n",
    "df.horsepower.median()"
   ]
  },
  {
   "cell_type": "code",
   "execution_count": 70,
   "id": "12d7e436-849d-4e29-929d-de5b8e046f55",
   "metadata": {},
   "outputs": [
    {
     "data": {
      "text/plain": [
       "0    152.0\n",
       "Name: horsepower, dtype: float64"
      ]
     },
     "execution_count": 70,
     "metadata": {},
     "output_type": "execute_result"
    }
   ],
   "source": [
    "#Step 2\n",
    "df.horsepower.mode()"
   ]
  },
  {
   "cell_type": "code",
   "execution_count": 71,
   "id": "e59d77cd-c827-4682-be81-703791fed5fc",
   "metadata": {},
   "outputs": [],
   "source": [
    "#Step 3\n",
    "df['horsepower'] = df['horsepower'].fillna(152.0)"
   ]
  },
  {
   "cell_type": "code",
   "execution_count": 73,
   "id": "d5383017-fd1f-40a1-bca0-4703f53abd5a",
   "metadata": {},
   "outputs": [
    {
     "data": {
      "text/plain": [
       "np.float64(152.0)"
      ]
     },
     "execution_count": 73,
     "metadata": {},
     "output_type": "execute_result"
    }
   ],
   "source": [
    "#Step 4\n",
    "df.horsepower.median()"
   ]
  },
  {
   "cell_type": "markdown",
   "id": "29c06045-7d46-4b0e-8fb4-304d8f70a7a4",
   "metadata": {},
   "source": [
    "\n",
    "### Answer : Yes, it increased"
   ]
  },
  {
   "cell_type": "markdown",
   "id": "8cc772de-b5f3-44c9-b3b5-fa9d2b846db1",
   "metadata": {},
   "source": [
    "### 7. Sum of weights\n",
    "##### 1. Select all the cars from Asia\n",
    "##### 2. Select only columns vehicle_weight and model_year\n",
    "##### 3. Select the first 7 values\n",
    "##### 4. Get the underlying NumPy array. Let's call it X.\n",
    "##### 5. Compute matrix-matrix multiplication between the transpose of X and X. To get the transpose, use X.T. Let's call the result XTX.\n",
    "##### 6. Invert XTX.\n",
    "##### 7. Create an array y with values [1100, 1300, 800, 900, 1000, 1100, 1200].\n",
    "##### 8. Multiply the inverse of XTX with the transpose of X, and then multiply the result by y. Call the result w.\n",
    "##### 9. What's the sum of all the elements of the result?"
   ]
  },
  {
   "cell_type": "code",
   "execution_count": 117,
   "id": "f9f1989b-6eac-4b3c-b5b0-d14a891c74fa",
   "metadata": {},
   "outputs": [
    {
     "name": "stdout",
     "output_type": "stream",
     "text": [
      "X is:\n",
      " [[2714.21930965 2016.        ]\n",
      " [2783.86897424 2010.        ]\n",
      " [3582.68736772 2007.        ]\n",
      " [2231.8081416  2011.        ]\n",
      " [2659.43145076 2016.        ]\n",
      " [2844.22753389 2014.        ]\n",
      " [3761.99403819 2019.        ]]\n",
      "\n",
      "XTX is:\n",
      " [[62248334.33150762 41431216.5073268 ]\n",
      " [41431216.5073268  28373339.        ]]\n",
      "\n",
      " w is:\n",
      " [0.01386421 0.5049067 ]\n",
      "\n",
      "The sum of all elements of the result is:\n",
      " 0.5187709081074016\n"
     ]
    }
   ],
   "source": [
    "#Step 1 : \n",
    "df_new = df[df['origin'] == 'Asia']\n",
    "\n",
    "#Step 2, 3, 4 :\n",
    "X = df_new[['vehicle_weight','model_year']].head(7).to_numpy()\n",
    "print('X is:\\n', X)\n",
    "\n",
    "#Step 5 : \n",
    "XTX = X.T.dot(X)\n",
    "print('\\nXTX is:\\n', XTX)\n",
    "\n",
    "#Step 6 :\n",
    "XTX_inv = np.linalg.inv(XTX)\n",
    "\n",
    "#Step 7 : \n",
    "y = np.array([1100, 1300, 800, 900, 1000, 1100, 1200])\n",
    "\n",
    "#Step 8 :\n",
    "X1 = XTX_inv.dot(X.T)\n",
    "w = X1.dot(y)\n",
    "print('\\n w is:\\n', w)\n",
    "\n",
    "#Step 9 :\n",
    "result = w.sum()\n",
    "print('\\nThe sum of all elements of the result is:\\n', result)"
   ]
  },
  {
   "cell_type": "markdown",
   "id": "96d96fb6-4662-4ad4-9581-9fef9ca9458f",
   "metadata": {},
   "source": [
    "### Answer : 0.51"
   ]
  }
 ],
 "metadata": {
  "kernelspec": {
   "display_name": "Python 3 (ipykernel)",
   "language": "python",
   "name": "python3"
  },
  "language_info": {
   "codemirror_mode": {
    "name": "ipython",
    "version": 3
   },
   "file_extension": ".py",
   "mimetype": "text/x-python",
   "name": "python",
   "nbconvert_exporter": "python",
   "pygments_lexer": "ipython3",
   "version": "3.12.1"
  }
 },
 "nbformat": 4,
 "nbformat_minor": 5
}
